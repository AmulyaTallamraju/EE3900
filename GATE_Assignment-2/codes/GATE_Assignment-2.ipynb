{
  "nbformat": 4,
  "nbformat_minor": 2,
  "metadata": {
    "colab": {
      "name": "Untitled8.ipynb",
      "provenance": []
    },
    "kernelspec": {
      "name": "python3",
      "display_name": "Python 3"
    },
    "language_info": {
      "name": "python"
    }
  },
  "cells": [
    {
      "cell_type": "code",
      "execution_count": 4,
      "source": [
        "\r\n",
        "import math\r\n",
        "import cmath\r\n",
        "import numpy as np\r\n",
        "import matplotlib.pyplot as plt\r\n",
        "\r\n",
        "\r\n",
        "n=np.linspace(-8, 8, num=17)\r\n",
        "#plots\r\n",
        "h1_n=[]\r\n",
        "for i in n:\r\n",
        "  if i==1:\r\n",
        "    h1_n.append(1)\r\n",
        "  else:\r\n",
        "    h1_n.append(0)\r\n",
        "\r\n",
        "h2_n=[]\r\n",
        "for i in n:\r\n",
        "  if i==2:\r\n",
        "    h2_n.append(1)\r\n",
        "  else:\r\n",
        "    h2_n.append(0)\r\n",
        "\r\n",
        "h_n=[]\r\n",
        "for i in n:\r\n",
        "  if i==3:\r\n",
        "    h_n.append(1)\r\n",
        "  else:\r\n",
        "    h_n.append(0)\r\n",
        "\r\n",
        "\r\n",
        "plt.stem(n,h1_n,use_line_collection=True)\r\n",
        "plt.title('h_1[n]')\r\n",
        "plt.xlabel('$n$')\r\n",
        "plt.ylabel('$h_1(n)$')\r\n",
        "plt.grid()# minor\r\n",
        "\r\n",
        "\r\n",
        "\r\n"
      ],
      "outputs": [
        {
          "output_type": "display_data",
          "data": {
            "image/png": "[encoded data removed]",
            "text/plain": [
              "<Figure size 432x288 with 1 Axes>"
            ]
          },
          "metadata": {
            "needs_background": "light"
          }
        }
      ],
      "metadata": {
        "colab": {
          "base_uri": "https://localhost:8080/",
          "height": 295
        },
        "id": "G2f5nBAEOBra",
        "outputId": "0da397ba-3251-43dc-bdc8-a07c20603c5a"
      }
    },
    {
      "cell_type": "code",
      "execution_count": 5,
      "source": [
        "plt.stem(n,h2_n,use_line_collection=True)\r\n",
        "plt.title('h_2[n]')\r\n",
        "plt.xlabel('$n$')\r\n",
        "plt.ylabel('$h_2(n)$')\r\n",
        "plt.grid()"
      ],
      "outputs": [
        {
          "output_type": "display_data",
          "data": {
            "image/png": "[encoded data removed]",
            "text/plain": [
              "<Figure size 432x288 with 1 Axes>"
            ]
          },
          "metadata": {
            "needs_background": "light"
          }
        }
      ],
      "metadata": {
        "colab": {
          "base_uri": "https://localhost:8080/",
          "height": 295
        },
        "id": "jtjfRs13hQhS",
        "outputId": "0c349cf6-dc12-4a14-9674-1b3791bc99fa"
      }
    },
    {
      "cell_type": "code",
      "execution_count": 6,
      "source": [
        "plt.stem(n,h_n,use_line_collection=True)\r\n",
        "plt.title('h[n]')\r\n",
        "plt.xlabel('$n$')\r\n",
        "plt.ylabel('$h(n)$')\r\n",
        "plt.grid()"
      ],
      "outputs": [
        {
          "output_type": "display_data",
          "data": {
            "image/png": "[encoded data removed]",
            "text/plain": [
              "<Figure size 432x288 with 1 Axes>"
            ]
          },
          "metadata": {
            "needs_background": "light"
          }
        }
      ],
      "metadata": {
        "colab": {
          "base_uri": "https://localhost:8080/",
          "height": 295
        },
        "id": "J4e32mSEjM3q",
        "outputId": "600f9f75-606c-4027-cfb1-06a0078fdbc0"
      }
    },
    {
      "cell_type": "code",
      "execution_count": null,
      "source": [
        "\r\n",
        "import numpy as np\r\n",
        "from matplotlib import pyplot as plt\r\n",
        "\r\n",
        "h1=np.eye(1,101,51)\r\n",
        "h2=np.eye(1,101,52)\r\n",
        "#print(h1,h2)\r\n",
        "cascade = np.convolve(h1[0],h2[0])\r\n",
        "#Plotting step response\r\n",
        "\r\n",
        "print(cascade)\r\n"
      ],
      "outputs": [],
      "metadata": {}
    }
  ]
}
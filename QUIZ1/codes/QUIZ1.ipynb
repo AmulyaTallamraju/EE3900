{
  "nbformat": 4,
  "nbformat_minor": 0,
  "metadata": {
    "colab": {
      "name": "QUIZ1.ipynb",
      "provenance": []
    },
    "kernelspec": {
      "name": "python3",
      "display_name": "Python 3"
    },
    "language_info": {
      "name": "python"
    }
  },
  "cells": [
    {
      "cell_type": "code",
      "metadata": {
        "colab": {
          "base_uri": "https://localhost:8080/",
          "height": 295
        },
        "id": "G2f5nBAEOBra",
        "outputId": "de523a38-2fa7-4f48-c9d0-e8db9eae8cbd"
      },
      "source": [
        "\n",
        "import math\n",
        "import cmath\n",
        "import numpy as np\n",
        "import matplotlib.pyplot as plt\n",
        "\n",
        "\n",
        "x_n=[]\n",
        "#plot\n",
        "\n",
        "n=np.linspace(-2,6,9)\n",
        "for i in n:\n",
        "  if i>=0 and i<=4:\n",
        "    x_n.append(1)\n",
        "  else:\n",
        "    x_n.append(0)\n",
        "plt.stem(n,x_n,use_line_collection=True)\n",
        "plt.title('x[n]')\n",
        "plt.xlabel('$n$')\n",
        "plt.ylabel('$x(n)$')\n",
        "plt.grid()# minor\n",
        "\n",
        "\n",
        "\n"
      ],
      "execution_count": 12,
      "outputs": [
        {
          "output_type": "display_data",
          "data": {
            "image/png": "[encoded data removed]",
            "text/plain": [
              "<Figure size 432x288 with 1 Axes>"
            ]
          },
          "metadata": {
            "needs_background": "light"
          }
        }
      ]
    },
    {
      "cell_type": "code",
      "metadata": {
        "colab": {
          "base_uri": "https://localhost:8080/",
          "height": 295
        },
        "id": "jtjfRs13hQhS",
        "outputId": "ecf77183-da21-443b-b412-bab5e361ecda"
      },
      "source": [
        "import math\n",
        "import cmath\n",
        "import numpy as np\n",
        "import matplotlib.pyplot as plt\n",
        "\n",
        "\n",
        "h_n=[]\n",
        "#plot\n",
        "\n",
        "m=np.linspace(0,16,17)\n",
        "for i in m:\n",
        "  if i>=2 and i<=7:\n",
        "    h_n.append(1)\n",
        "  elif i>=11 and i<=16:\n",
        "    h_n.append(1)\n",
        "  else:\n",
        "    h_n.append(0)\n",
        "plt.stem(m,h_n,use_line_collection=True)\n",
        "plt.title('h[n]')\n",
        "plt.xlabel('$n$')\n",
        "plt.ylabel('$h(n)$')\n",
        "plt.grid()# minor"
      ],
      "execution_count": 13,
      "outputs": [
        {
          "output_type": "display_data",
          "data": {
            "image/png": "[encoded data removed]",
            "text/plain": [
              "<Figure size 432x288 with 1 Axes>"
            ]
          },
          "metadata": {
            "needs_background": "light"
          }
        }
      ]
    },
    {
      "cell_type": "code",
      "metadata": {
        "colab": {
          "base_uri": "https://localhost:8080/",
          "height": 351
        },
        "id": "J4e32mSEjM3q",
        "outputId": "bf35bbad-25e9-420d-f131-74c1907204d4"
      },
      "source": [
        "conv = np.convolve(x_n,h_n)\n",
        "#Plotting step response\n",
        "\n",
        "print(conv)\n",
        "## the lower limits change to N1+M1 while upper limits change to N2+M2\n",
        "print(m[-1],n[-1])\n",
        "ran=list(range(int(m[0]+n[0]),int(m[-1]+n[-1]+1)))\n",
        "print(ran)\n",
        "plt.stem(ran,conv,use_line_collection=True)\n",
        "plt.title('y[n]')\n",
        "plt.xlabel('$n$')\n",
        "plt.ylabel('$y(n)$')\n",
        "plt.grid()"
      ],
      "execution_count": 17,
      "outputs": [
        {
          "output_type": "stream",
          "name": "stdout",
          "text": [
            "[0 0 0 0 1 2 3 4 5 5 4 3 2 2 2 3 4 5 5 4 3 2 1 0 0]\n",
            "16.0 6.0\n",
            "[-2, -1, 0, 1, 2, 3, 4, 5, 6, 7, 8, 9, 10, 11, 12, 13, 14, 15, 16, 17, 18, 19, 20, 21, 22]\n"
          ]
        },
        {
          "output_type": "display_data",
          "data": {
            "image/png": "[encoded data removed]",
            "text/plain": [
              "<Figure size 432x288 with 1 Axes>"
            ]
          },
          "metadata": {
            "needs_background": "light"
          }
        }
      ]
    },
    {
      "cell_type": "code",
      "metadata": {
        "colab": {
          "base_uri": "https://localhost:8080/"
        },
        "id": "uGtOfV_2_8Td",
        "outputId": "591fbcc2-e9f0-4e0c-af21-a1c1ed0ef98e"
      },
      "source": [
        "def u(t):\n",
        "  if t>=0:\n",
        "    return 1\n",
        "  else:\n",
        "    return 0\n",
        "y__=[]\n",
        "for n in range(-2,23):\n",
        "  sum=0\n",
        "  for m in range(0,5):\n",
        "    sum=sum+u(n-2-m)+u(n-11-m)-u(n-8-m)-u(n-17-m)\n",
        "  y__.append(sum)\n",
        "print(y__)\n",
        "print(y__-conv)\n",
        "print(\"Therefore, Simulation matches with the theory\")"
      ],
      "execution_count": 21,
      "outputs": [
        {
          "output_type": "stream",
          "name": "stdout",
          "text": [
            "[0, 0, 0, 0, 1, 2, 3, 4, 5, 5, 4, 3, 2, 2, 2, 3, 4, 5, 5, 4, 3, 2, 1, 0, 0]\n",
            "[0 0 0 0 0 0 0 0 0 0 0 0 0 0 0 0 0 0 0 0 0 0 0 0 0]\n",
            "Therefore, Simulation matches with the theory\n"
          ]
        }
      ]
    }
  ]
}
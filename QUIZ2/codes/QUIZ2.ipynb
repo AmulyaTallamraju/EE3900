{
  "nbformat": 4,
  "nbformat_minor": 0,
  "metadata": {
    "colab": {
      "name": "QUIZ2.ipynb",
      "provenance": []
    },
    "kernelspec": {
      "name": "python3",
      "display_name": "Python 3"
    },
    "language_info": {
      "name": "python"
    }
  },
  "cells": [
    {
      "cell_type": "code",
      "metadata": {
        "id": "Q35xx3a4dFOC"
      },
      "source": [
        "!pip install\n",
        "import lcapy as lc\n",
        "from lcapy.discretetime import z\n"
      ],
      "execution_count": null,
      "outputs": []
    },
    {
      "cell_type": "code",
      "metadata": {
        "colab": {
          "base_uri": "https://localhost:8080/"
        },
        "id": "LsFGTA4qrk6G",
        "outputId": "2cfe1d7f-073a-4502-8816-7f3f8c38d214"
      },
      "source": [
        "X0=z/(z-1)*9*z/(3*z+1)\n",
        "xk=X0.IZT()\n",
        "print(xk)\n",
        "print(\"Theory matches with simulation\")"
      ],
      "execution_count": 5,
      "outputs": [
        {
          "output_type": "stream",
          "name": "stdout",
          "text": [
            "Piecewise((3*(-1/3)**n/4 + 9/4, n >= 0))\n",
            "Theory matches with simulation\n"
          ]
        }
      ]
    },
    {
      "cell_type": "code",
      "metadata": {
        "colab": {
          "base_uri": "https://localhost:8080/"
        },
        "id": "UonMbk0YxU2m",
        "outputId": "3b1c83ae-45f6-4854-c980-78e2899ea15c"
      },
      "source": [
        "h0=3*z/(z+(1/3))\n",
        "hk=h0.IZT()\n",
        "print(hk)"
      ],
      "execution_count": 21,
      "outputs": [
        {
          "output_type": "stream",
          "name": "stdout",
          "text": [
            "Piecewise((3*(-3333333333333333/10000000000000000)**n, n >= 0))\n"
          ]
        }
      ]
    },
    {
      "cell_type": "code",
      "metadata": {
        "colab": {
          "base_uri": "https://localhost:8080/",
          "height": 334
        },
        "id": "UryaaJKfr-7l",
        "outputId": "16980d80-18ef-43dc-ac31-d2ff52c5487c"
      },
      "source": [
        "import numpy as np\n",
        "import matplotlib.pyplot as plt\n",
        "num=np.linspace(0, 8, num=9)\n",
        "#plots\n",
        "y_n=[]\n",
        "def y(u):\n",
        "  if u>=0:\n",
        "    return (9/4)*(1-(-1/3)**(u+1))\n",
        "  else:\n",
        "    return 0\n",
        " \n",
        "for i in num:\n",
        "  y_n.append(y(i))\n",
        "\n",
        "plt.stem(num,y_n,use_line_collection=True)\n",
        "plt.title('y[n]')\n",
        "plt.xlabel('$n$')\n",
        "plt.ylabel('$y(n)$')\n",
        "plt.grid()# minor\n",
        "print(y_n)"
      ],
      "execution_count": 41,
      "outputs": [
        {
          "output_type": "stream",
          "name": "stdout",
          "text": [
            "[3.0, 2.0, 2.333333333333333, 2.2222222222222223, 2.2592592592592595, 2.246913580246914, 2.2510288065843618, 2.2496570644718794, 2.250114311842707]\n"
          ]
        },
        {
          "output_type": "display_data",
          "data": {
            "image/png": "[encoded data removed]",
            "text/plain": [
              "<Figure size 432x288 with 1 Axes>"
            ]
          },
          "metadata": {
            "needs_background": "light"
          }
        }
      ]
    },
    {
      "cell_type": "code",
      "metadata": {
        "id": "XlIkUr2zudnS"
      },
      "source": [
        "#FInding y_n approximately using convolution\n",
        "x_n=[]\n",
        "#plot\n",
        "\n",
        "n=np.linspace(0,20000,20001)\n",
        "for i in n:\n",
        "  if i>=0 :\n",
        "    x_n.append(1)\n",
        "  else:\n",
        "    x_n.append(0)"
      ],
      "execution_count": 36,
      "outputs": []
    },
    {
      "cell_type": "code",
      "metadata": {
        "id": "XItFqCKgvXOK"
      },
      "source": [
        "h_n=[]\n",
        "#plot\n",
        "\n",
        "m=np.linspace(0,20000,20001)\n",
        "for i in m:\n",
        "  if i>=0 :\n",
        "    h_n.append(3*(-1/3)**i)\n",
        "  else:\n",
        "    h_n.append(0)"
      ],
      "execution_count": 37,
      "outputs": []
    },
    {
      "cell_type": "code",
      "metadata": {
        "colab": {
          "base_uri": "https://localhost:8080/"
        },
        "id": "RjVcpvWXv6Ij",
        "outputId": "3fc2fd75-c7d8-4a90-a58a-0fe3df11c821"
      },
      "source": [
        "\n",
        "conv = np.convolve(x_n,h_n)\n",
        "\n",
        "print(conv[0:9]-y_n)\n",
        "print(\"Thus, the value of y[n] obtained by approximating convolution and found using inverse Z transform are very close\")\n",
        "## the lower limits change to N1+M1 while upper limits change to N2+M2\n"
      ],
      "execution_count": 44,
      "outputs": [
        {
          "output_type": "stream",
          "name": "stdout",
          "text": [
            "[0.0000000e+00 0.0000000e+00 0.0000000e+00 0.0000000e+00 0.0000000e+00\n",
            " 0.0000000e+00 4.4408921e-16 0.0000000e+00 0.0000000e+00]\n",
            "Thus, the value of y[n] obtained by approximating convolution and found using inverse Z transform are very close\n"
          ]
        }
      ]
    },
    {
      "cell_type": "markdown",
      "metadata": {
        "id": "HDTP7NOz0gvL"
      },
      "source": [
        ""
      ]
    }
  ]
}